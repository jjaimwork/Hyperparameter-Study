{
 "cells": [
  {
   "cell_type": "code",
   "execution_count": 1,
   "metadata": {},
   "outputs": [],
   "source": [
    "import numpy as np\n",
    "import pandas as pd"
   ]
  },
  {
   "cell_type": "markdown",
   "metadata": {},
   "source": [
    "## Hyperparameter to play with"
   ]
  },
  {
   "cell_type": "markdown",
   "metadata": {},
   "source": [
    "1. **n_estimator** \n",
    "\n",
    "sets the number of decision trees to be used in the forest.\n",
    "\n",
    "**`[100, 120, 300, 500, 800, 1200]`**\n",
    "\n",
    "2. **max_depth**  \n",
    "\n",
    "set the max depth of the tree.\n",
    "\n",
    "If not set then there is no cap. The tree will keep expanding until all leaves are pure.\n",
    "\n",
    "Limiting the depth is good for pruning trees to prevent over-fitting on noisy data.\n",
    "\n",
    "**`[5, 8, 15, 25, 30, None]`**\n",
    "\n",
    "3. **max_features**\n",
    "\n",
    "set the number of features to consider for the best node split\n",
    "\n",
    "Default is “auto”, which means that the square root of the number of features is used for every split in the tree.\n",
    "\n",
    "“None” means that all features are used for each split.\n",
    "\n",
    "Each decision tree in the random forest will typically use a random subset of features for splitting.\n",
    "\n",
    "**`[log2, sqrt, auto, None]`**\n",
    "\n",
    "4. **min_samples_split**\n",
    "\n",
    "The minimum number of samples needed before a split (differentiation) is made in an internal node\n",
    "\n",
    "**`[1,2,5,10,15,100]`**\n",
    "\n",
    "5. **min_samples_leafs**\n",
    "\n",
    "The minimum number of samples needed to create a leaf (decision) node.\n",
    "\n",
    "Default is 1. This means that a split point at any depth will only be allowed if there is at least 1 sample for each path.\n",
    "\n",
    "**`[1,2,5,10]`**"
   ]
  },
  {
   "cell_type": "code",
   "execution_count": 2,
   "metadata": {},
   "outputs": [],
   "source": [
    "def evaluate_preds(y_true, y_preds):\n",
    "    r2 = r2_score(y_true, y_preds)\n",
    "    MAE = mean_absolute_error(y_true, y_preds)\n",
    "    MSE = mean_squared_error(y_true, y_preds)\n",
    "    metric_dict = {\"r2_score\": round(r2, 2),\n",
    "                   \"mean_absolute_error\": round(MAE,2),\n",
    "                   \"mean_squared_error\": round(MSE,2)}\n",
    "    print(f\"r2_score: {r2 * 100:2f}%\")\n",
    "    print(f\"mean_absolute_error: {MAE:.2f}\")\n",
    "    print(f\"mean_squared_error: {MSE:.2f}\")\n",
    "    \n",
    "    return metric_dict"
   ]
  },
  {
   "cell_type": "code",
   "execution_count": 3,
   "metadata": {},
   "outputs": [],
   "source": [
    "# imports boston dataset\n",
    "from sklearn.datasets import load_boston\n",
    "from sklearn.metrics import r2_score, mean_absolute_error, mean_squared_error\n",
    "\n",
    "boston = load_boston()\n",
    "bostondf = pd.DataFrame(boston.data)\n",
    "bostondf.columns = boston.feature_names\n",
    "bostondf['PRICE'] = boston.target\n",
    "\n",
    "bostondf.to_csv(\"boston.csv\", index=False,)"
   ]
  },
  {
   "cell_type": "code",
   "execution_count": 4,
   "metadata": {},
   "outputs": [],
   "source": [
    "# separating X features and y target\n",
    "bostondf = pd.read_csv('boston.csv')\n",
    "X = bostondf.drop(columns='PRICE')\n",
    "y = bostondf['PRICE']"
   ]
  },
  {
   "cell_type": "code",
   "execution_count": 5,
   "metadata": {
    "scrolled": true
   },
   "outputs": [
    {
     "data": {
      "text/plain": [
       "0.873969014117403"
      ]
     },
     "execution_count": 5,
     "metadata": {},
     "output_type": "execute_result"
    }
   ],
   "source": [
    "from sklearn.model_selection import train_test_split\n",
    "\n",
    "# generate seed\n",
    "np.random.seed(42)\n",
    "\n",
    "# splitting to training and test data\n",
    "X_train, X_test, y_train, y_test = train_test_split(X, y, test_size=0.2)\n",
    "\n",
    "from sklearn.ensemble import RandomForestRegressor\n",
    "\n",
    "# instantiating the model\n",
    "reg = RandomForestRegressor()\n",
    "\n",
    "# fitting and scoring the data\n",
    "reg.fit(X_train,y_train)\n",
    "reg.score(X_test,y_test)"
   ]
  },
  {
   "cell_type": "code",
   "execution_count": 6,
   "metadata": {},
   "outputs": [
    {
     "data": {
      "text/plain": [
       "{'bootstrap': True,\n",
       " 'ccp_alpha': 0.0,\n",
       " 'criterion': 'mse',\n",
       " 'max_depth': None,\n",
       " 'max_features': 'auto',\n",
       " 'max_leaf_nodes': None,\n",
       " 'max_samples': None,\n",
       " 'min_impurity_decrease': 0.0,\n",
       " 'min_impurity_split': None,\n",
       " 'min_samples_leaf': 1,\n",
       " 'min_samples_split': 2,\n",
       " 'min_weight_fraction_leaf': 0.0,\n",
       " 'n_estimators': 100,\n",
       " 'n_jobs': None,\n",
       " 'oob_score': False,\n",
       " 'random_state': None,\n",
       " 'verbose': 0,\n",
       " 'warm_start': False}"
      ]
     },
     "execution_count": 6,
     "metadata": {},
     "output_type": "execute_result"
    }
   ],
   "source": [
    "reg.get_params()"
   ]
  },
  {
   "cell_type": "code",
   "execution_count": 7,
   "metadata": {},
   "outputs": [
    {
     "name": "stdout",
     "output_type": "stream",
     "text": [
      "r2_score: 87.396901%\n",
      "mean_absolute_error: 2.12\n",
      "mean_squared_error: 9.24\n"
     ]
    },
    {
     "data": {
      "text/plain": [
       "{'r2_score': 0.87, 'mean_absolute_error': 2.12, 'mean_squared_error': 9.24}"
      ]
     },
     "execution_count": 7,
     "metadata": {},
     "output_type": "execute_result"
    }
   ],
   "source": [
    "y_pred = reg.predict(X_test)\n",
    "evaluate_preds(y_test, y_pred)"
   ]
  },
  {
   "cell_type": "code",
   "execution_count": 8,
   "metadata": {
    "scrolled": true
   },
   "outputs": [
    {
     "name": "stdout",
     "output_type": "stream",
     "text": [
      "Fitting 5 folds for each of 10 candidates, totalling 50 fits\n",
      "[CV] n_estimators=100, min_samples_split=4, max_features=auto, max_depth=None \n"
     ]
    },
    {
     "name": "stderr",
     "output_type": "stream",
     "text": [
      "[Parallel(n_jobs=1)]: Using backend SequentialBackend with 1 concurrent workers.\n"
     ]
    },
    {
     "name": "stdout",
     "output_type": "stream",
     "text": [
      "[CV]  n_estimators=100, min_samples_split=4, max_features=auto, max_depth=None, total=   0.3s\n",
      "[CV] n_estimators=100, min_samples_split=4, max_features=auto, max_depth=None \n"
     ]
    },
    {
     "name": "stderr",
     "output_type": "stream",
     "text": [
      "[Parallel(n_jobs=1)]: Done   1 out of   1 | elapsed:    0.2s remaining:    0.0s\n"
     ]
    },
    {
     "name": "stdout",
     "output_type": "stream",
     "text": [
      "[CV]  n_estimators=100, min_samples_split=4, max_features=auto, max_depth=None, total=   0.3s\n",
      "[CV] n_estimators=100, min_samples_split=4, max_features=auto, max_depth=None \n",
      "[CV]  n_estimators=100, min_samples_split=4, max_features=auto, max_depth=None, total=   0.3s\n",
      "[CV] n_estimators=100, min_samples_split=4, max_features=auto, max_depth=None \n",
      "[CV]  n_estimators=100, min_samples_split=4, max_features=auto, max_depth=None, total=   0.3s\n",
      "[CV] n_estimators=100, min_samples_split=4, max_features=auto, max_depth=None \n",
      "[CV]  n_estimators=100, min_samples_split=4, max_features=auto, max_depth=None, total=   0.3s\n",
      "[CV] n_estimators=500, min_samples_split=5, max_features=auto, max_depth=15 \n",
      "[CV]  n_estimators=500, min_samples_split=5, max_features=auto, max_depth=15, total=   1.4s\n",
      "[CV] n_estimators=500, min_samples_split=5, max_features=auto, max_depth=15 \n",
      "[CV]  n_estimators=500, min_samples_split=5, max_features=auto, max_depth=15, total=   1.3s\n",
      "[CV] n_estimators=500, min_samples_split=5, max_features=auto, max_depth=15 \n",
      "[CV]  n_estimators=500, min_samples_split=5, max_features=auto, max_depth=15, total=   1.3s\n",
      "[CV] n_estimators=500, min_samples_split=5, max_features=auto, max_depth=15 \n",
      "[CV]  n_estimators=500, min_samples_split=5, max_features=auto, max_depth=15, total=   1.6s\n",
      "[CV] n_estimators=500, min_samples_split=5, max_features=auto, max_depth=15 \n",
      "[CV]  n_estimators=500, min_samples_split=5, max_features=auto, max_depth=15, total=   1.3s\n",
      "[CV] n_estimators=1000, min_samples_split=5, max_features=auto, max_depth=15 \n",
      "[CV]  n_estimators=1000, min_samples_split=5, max_features=auto, max_depth=15, total=   2.7s\n",
      "[CV] n_estimators=1000, min_samples_split=5, max_features=auto, max_depth=15 \n",
      "[CV]  n_estimators=1000, min_samples_split=5, max_features=auto, max_depth=15, total=   2.6s\n",
      "[CV] n_estimators=1000, min_samples_split=5, max_features=auto, max_depth=15 \n",
      "[CV]  n_estimators=1000, min_samples_split=5, max_features=auto, max_depth=15, total=   2.5s\n",
      "[CV] n_estimators=1000, min_samples_split=5, max_features=auto, max_depth=15 \n",
      "[CV]  n_estimators=1000, min_samples_split=5, max_features=auto, max_depth=15, total=   2.6s\n",
      "[CV] n_estimators=1000, min_samples_split=5, max_features=auto, max_depth=15 \n",
      "[CV]  n_estimators=1000, min_samples_split=5, max_features=auto, max_depth=15, total=   2.5s\n",
      "[CV] n_estimators=500, min_samples_split=5, max_features=auto, max_depth=None \n",
      "[CV]  n_estimators=500, min_samples_split=5, max_features=auto, max_depth=None, total=   1.3s\n",
      "[CV] n_estimators=500, min_samples_split=5, max_features=auto, max_depth=None \n",
      "[CV]  n_estimators=500, min_samples_split=5, max_features=auto, max_depth=None, total=   1.3s\n",
      "[CV] n_estimators=500, min_samples_split=5, max_features=auto, max_depth=None \n",
      "[CV]  n_estimators=500, min_samples_split=5, max_features=auto, max_depth=None, total=   1.3s\n",
      "[CV] n_estimators=500, min_samples_split=5, max_features=auto, max_depth=None \n",
      "[CV]  n_estimators=500, min_samples_split=5, max_features=auto, max_depth=None, total=   1.3s\n",
      "[CV] n_estimators=500, min_samples_split=5, max_features=auto, max_depth=None \n",
      "[CV]  n_estimators=500, min_samples_split=5, max_features=auto, max_depth=None, total=   1.3s\n",
      "[CV] n_estimators=1000, min_samples_split=5, max_features=auto, max_depth=25 \n",
      "[CV]  n_estimators=1000, min_samples_split=5, max_features=auto, max_depth=25, total=   2.5s\n",
      "[CV] n_estimators=1000, min_samples_split=5, max_features=auto, max_depth=25 \n",
      "[CV]  n_estimators=1000, min_samples_split=5, max_features=auto, max_depth=25, total=   2.5s\n",
      "[CV] n_estimators=1000, min_samples_split=5, max_features=auto, max_depth=25 \n",
      "[CV]  n_estimators=1000, min_samples_split=5, max_features=auto, max_depth=25, total=   2.5s\n",
      "[CV] n_estimators=1000, min_samples_split=5, max_features=auto, max_depth=25 \n",
      "[CV]  n_estimators=1000, min_samples_split=5, max_features=auto, max_depth=25, total=   2.5s\n",
      "[CV] n_estimators=1000, min_samples_split=5, max_features=auto, max_depth=25 \n",
      "[CV]  n_estimators=1000, min_samples_split=5, max_features=auto, max_depth=25, total=   2.6s\n",
      "[CV] n_estimators=1000, min_samples_split=4, max_features=auto, max_depth=None \n",
      "[CV]  n_estimators=1000, min_samples_split=4, max_features=auto, max_depth=None, total=   2.6s\n",
      "[CV] n_estimators=1000, min_samples_split=4, max_features=auto, max_depth=None \n",
      "[CV]  n_estimators=1000, min_samples_split=4, max_features=auto, max_depth=None, total=   2.6s\n",
      "[CV] n_estimators=1000, min_samples_split=4, max_features=auto, max_depth=None \n",
      "[CV]  n_estimators=1000, min_samples_split=4, max_features=auto, max_depth=None, total=   2.5s\n",
      "[CV] n_estimators=1000, min_samples_split=4, max_features=auto, max_depth=None \n",
      "[CV]  n_estimators=1000, min_samples_split=4, max_features=auto, max_depth=None, total=   2.7s\n",
      "[CV] n_estimators=1000, min_samples_split=4, max_features=auto, max_depth=None \n",
      "[CV]  n_estimators=1000, min_samples_split=4, max_features=auto, max_depth=None, total=   2.6s\n",
      "[CV] n_estimators=500, min_samples_split=4, max_features=auto, max_depth=5 \n",
      "[CV]  n_estimators=500, min_samples_split=4, max_features=auto, max_depth=5, total=   1.0s\n",
      "[CV] n_estimators=500, min_samples_split=4, max_features=auto, max_depth=5 \n",
      "[CV]  n_estimators=500, min_samples_split=4, max_features=auto, max_depth=5, total=   1.1s\n",
      "[CV] n_estimators=500, min_samples_split=4, max_features=auto, max_depth=5 \n",
      "[CV]  n_estimators=500, min_samples_split=4, max_features=auto, max_depth=5, total=   1.1s\n",
      "[CV] n_estimators=500, min_samples_split=4, max_features=auto, max_depth=5 \n",
      "[CV]  n_estimators=500, min_samples_split=4, max_features=auto, max_depth=5, total=   1.1s\n",
      "[CV] n_estimators=500, min_samples_split=4, max_features=auto, max_depth=5 \n",
      "[CV]  n_estimators=500, min_samples_split=4, max_features=auto, max_depth=5, total=   1.1s\n",
      "[CV] n_estimators=100, min_samples_split=4, max_features=auto, max_depth=8 \n",
      "[CV]  n_estimators=100, min_samples_split=4, max_features=auto, max_depth=8, total=   0.2s\n",
      "[CV] n_estimators=100, min_samples_split=4, max_features=auto, max_depth=8 \n",
      "[CV]  n_estimators=100, min_samples_split=4, max_features=auto, max_depth=8, total=   0.2s\n",
      "[CV] n_estimators=100, min_samples_split=4, max_features=auto, max_depth=8 \n",
      "[CV]  n_estimators=100, min_samples_split=4, max_features=auto, max_depth=8, total=   0.2s\n",
      "[CV] n_estimators=100, min_samples_split=4, max_features=auto, max_depth=8 \n",
      "[CV]  n_estimators=100, min_samples_split=4, max_features=auto, max_depth=8, total=   0.2s\n",
      "[CV] n_estimators=100, min_samples_split=4, max_features=auto, max_depth=8 \n",
      "[CV]  n_estimators=100, min_samples_split=4, max_features=auto, max_depth=8, total=   0.2s\n",
      "[CV] n_estimators=1000, min_samples_split=5, max_features=auto, max_depth=5 \n",
      "[CV]  n_estimators=1000, min_samples_split=5, max_features=auto, max_depth=5, total=   2.0s\n",
      "[CV] n_estimators=1000, min_samples_split=5, max_features=auto, max_depth=5 \n",
      "[CV]  n_estimators=1000, min_samples_split=5, max_features=auto, max_depth=5, total=   2.4s\n",
      "[CV] n_estimators=1000, min_samples_split=5, max_features=auto, max_depth=5 \n",
      "[CV]  n_estimators=1000, min_samples_split=5, max_features=auto, max_depth=5, total=   2.2s\n",
      "[CV] n_estimators=1000, min_samples_split=5, max_features=auto, max_depth=5 \n",
      "[CV]  n_estimators=1000, min_samples_split=5, max_features=auto, max_depth=5, total=   2.1s\n",
      "[CV] n_estimators=1000, min_samples_split=5, max_features=auto, max_depth=5 \n",
      "[CV]  n_estimators=1000, min_samples_split=5, max_features=auto, max_depth=5, total=   2.1s\n",
      "[CV] n_estimators=100, min_samples_split=4, max_features=auto, max_depth=5 \n",
      "[CV]  n_estimators=100, min_samples_split=4, max_features=auto, max_depth=5, total=   0.2s\n",
      "[CV] n_estimators=100, min_samples_split=4, max_features=auto, max_depth=5 \n",
      "[CV]  n_estimators=100, min_samples_split=4, max_features=auto, max_depth=5, total=   0.2s\n",
      "[CV] n_estimators=100, min_samples_split=4, max_features=auto, max_depth=5 \n",
      "[CV]  n_estimators=100, min_samples_split=4, max_features=auto, max_depth=5, total=   0.2s\n",
      "[CV] n_estimators=100, min_samples_split=4, max_features=auto, max_depth=5 \n",
      "[CV]  n_estimators=100, min_samples_split=4, max_features=auto, max_depth=5, total=   0.2s\n",
      "[CV] n_estimators=100, min_samples_split=4, max_features=auto, max_depth=5 \n",
      "[CV]  n_estimators=100, min_samples_split=4, max_features=auto, max_depth=5, total=   0.2s\n"
     ]
    },
    {
     "name": "stderr",
     "output_type": "stream",
     "text": [
      "[Parallel(n_jobs=1)]: Done  50 out of  50 | elapsed:  1.2min finished\n"
     ]
    }
   ],
   "source": [
    "np.random.seed(42)\n",
    "from sklearn.model_selection import RandomizedSearchCV\n",
    "param_grid = {\"n_estimators\":[100,500,1000],\n",
    "              \"max_depth\":[5,8,15,25,None],\n",
    "              \"max_features\":[\"auto\"],\n",
    "              \"min_samples_split\":[2,4,5]              \n",
    "}\n",
    "# n_jobs=1 ; pertains to the amount of core processor to be used\n",
    "reg = RandomForestRegressor(n_jobs=1)\n",
    "\n",
    "# setup RandomizedSearchCV\n",
    "rs_reg = RandomizedSearchCV(estimator=reg,\n",
    "                            param_distributions=param_grid,\n",
    "                            n_iter=10,\n",
    "                            cv=5,\n",
    "                            verbose=2)\n",
    "\n",
    "# fit randomized search to the training data\n",
    "rs_reg.fit(X_train, y_train);"
   ]
  },
  {
   "cell_type": "code",
   "execution_count": 9,
   "metadata": {},
   "outputs": [
    {
     "data": {
      "text/plain": [
       "{'n_estimators': 1000,\n",
       " 'min_samples_split': 4,\n",
       " 'max_features': 'auto',\n",
       " 'max_depth': None}"
      ]
     },
     "execution_count": 9,
     "metadata": {},
     "output_type": "execute_result"
    }
   ],
   "source": [
    "rs_reg.best_params_"
   ]
  },
  {
   "cell_type": "code",
   "execution_count": 10,
   "metadata": {},
   "outputs": [
    {
     "data": {
      "text/plain": [
       "0.8812693028654112"
      ]
     },
     "execution_count": 10,
     "metadata": {},
     "output_type": "execute_result"
    }
   ],
   "source": [
    "rs_reg.score(X_test,y_test)"
   ]
  },
  {
   "cell_type": "code",
   "execution_count": 11,
   "metadata": {},
   "outputs": [
    {
     "name": "stdout",
     "output_type": "stream",
     "text": [
      "r2_score: 88.126930%\n",
      "mean_absolute_error: 2.08\n",
      "mean_squared_error: 8.71\n"
     ]
    }
   ],
   "source": [
    "rs_y_preds = rs_reg.predict(X_test)\n",
    "rs_metrics = evaluate_preds(y_test, rs_y_preds)"
   ]
  },
  {
   "cell_type": "markdown",
   "metadata": {},
   "source": [
    "## Putting it all together with Pipeline"
   ]
  },
  {
   "cell_type": "code",
   "execution_count": 12,
   "metadata": {},
   "outputs": [
    {
     "data": {
      "text/plain": [
       "0.873969014117403"
      ]
     },
     "execution_count": 12,
     "metadata": {},
     "output_type": "execute_result"
    }
   ],
   "source": [
    "# import libraries\n",
    "import pandas as pd\n",
    "import numpy as np\n",
    "\n",
    "from sklearn.model_selection import train_test_split\n",
    "from sklearn.ensemble import RandomForestRegressor\n",
    "from sklearn.metrics import r2_score, mean_absolute_error, mean_squared_error\n",
    "from sklearn.model_selection import RandomizedSearchCV\n",
    "from sklearn.pipeline import Pipeline\n",
    "\n",
    "# generate seed\n",
    "np.random.seed(42)\n",
    "\n",
    "# import dataset\n",
    "boston_df = pd.read_csv(\"boston.csv\")\n",
    "\n",
    "# create a pipeline\n",
    "model = Pipeline(steps=[(\"model\", RandomForestRegressor())])\n",
    "\n",
    "X = boston_df.drop(columns=\"PRICE\")\n",
    "y = boston_df[\"PRICE\"]\n",
    "\n",
    "X_train, X_test, y_train, y_test = train_test_split(X, y, test_size=0.2)\n",
    "model.fit(X_train, y_train)\n",
    "model.score(X_test, y_test)"
   ]
  },
  {
   "cell_type": "code",
   "execution_count": 13,
   "metadata": {},
   "outputs": [
    {
     "name": "stdout",
     "output_type": "stream",
     "text": [
      "Fitting 5 folds for each of 10 candidates, totalling 50 fits\n",
      "[CV] model__n_estimators=1000, model__min_samples_split=4, model__max_features=auto, model__max_depth=None \n"
     ]
    },
    {
     "name": "stderr",
     "output_type": "stream",
     "text": [
      "[Parallel(n_jobs=1)]: Using backend SequentialBackend with 1 concurrent workers.\n"
     ]
    },
    {
     "name": "stdout",
     "output_type": "stream",
     "text": [
      "[CV]  model__n_estimators=1000, model__min_samples_split=4, model__max_features=auto, model__max_depth=None, total=   2.6s\n",
      "[CV] model__n_estimators=1000, model__min_samples_split=4, model__max_features=auto, model__max_depth=None \n"
     ]
    },
    {
     "name": "stderr",
     "output_type": "stream",
     "text": [
      "[Parallel(n_jobs=1)]: Done   1 out of   1 | elapsed:    2.5s remaining:    0.0s\n"
     ]
    },
    {
     "name": "stdout",
     "output_type": "stream",
     "text": [
      "[CV]  model__n_estimators=1000, model__min_samples_split=4, model__max_features=auto, model__max_depth=None, total=   2.8s\n",
      "[CV] model__n_estimators=1000, model__min_samples_split=4, model__max_features=auto, model__max_depth=None \n",
      "[CV]  model__n_estimators=1000, model__min_samples_split=4, model__max_features=auto, model__max_depth=None, total=   2.9s\n",
      "[CV] model__n_estimators=1000, model__min_samples_split=4, model__max_features=auto, model__max_depth=None \n",
      "[CV]  model__n_estimators=1000, model__min_samples_split=4, model__max_features=auto, model__max_depth=None, total=   3.0s\n",
      "[CV] model__n_estimators=1000, model__min_samples_split=4, model__max_features=auto, model__max_depth=None \n",
      "[CV]  model__n_estimators=1000, model__min_samples_split=4, model__max_features=auto, model__max_depth=None, total=   2.8s\n",
      "[CV] model__n_estimators=500, model__min_samples_split=5, model__max_features=auto, model__max_depth=5 \n",
      "[CV]  model__n_estimators=500, model__min_samples_split=5, model__max_features=auto, model__max_depth=5, total=   1.2s\n",
      "[CV] model__n_estimators=500, model__min_samples_split=5, model__max_features=auto, model__max_depth=5 \n",
      "[CV]  model__n_estimators=500, model__min_samples_split=5, model__max_features=auto, model__max_depth=5, total=   1.0s\n",
      "[CV] model__n_estimators=500, model__min_samples_split=5, model__max_features=auto, model__max_depth=5 \n",
      "[CV]  model__n_estimators=500, model__min_samples_split=5, model__max_features=auto, model__max_depth=5, total=   1.2s\n",
      "[CV] model__n_estimators=500, model__min_samples_split=5, model__max_features=auto, model__max_depth=5 \n",
      "[CV]  model__n_estimators=500, model__min_samples_split=5, model__max_features=auto, model__max_depth=5, total=   1.0s\n",
      "[CV] model__n_estimators=500, model__min_samples_split=5, model__max_features=auto, model__max_depth=5 \n",
      "[CV]  model__n_estimators=500, model__min_samples_split=5, model__max_features=auto, model__max_depth=5, total=   1.0s\n",
      "[CV] model__n_estimators=100, model__min_samples_split=2, model__max_features=auto, model__max_depth=5 \n",
      "[CV]  model__n_estimators=100, model__min_samples_split=2, model__max_features=auto, model__max_depth=5, total=   0.2s\n",
      "[CV] model__n_estimators=100, model__min_samples_split=2, model__max_features=auto, model__max_depth=5 \n",
      "[CV]  model__n_estimators=100, model__min_samples_split=2, model__max_features=auto, model__max_depth=5, total=   0.2s\n",
      "[CV] model__n_estimators=100, model__min_samples_split=2, model__max_features=auto, model__max_depth=5 \n",
      "[CV]  model__n_estimators=100, model__min_samples_split=2, model__max_features=auto, model__max_depth=5, total=   0.2s\n",
      "[CV] model__n_estimators=100, model__min_samples_split=2, model__max_features=auto, model__max_depth=5 \n",
      "[CV]  model__n_estimators=100, model__min_samples_split=2, model__max_features=auto, model__max_depth=5, total=   0.2s\n",
      "[CV] model__n_estimators=100, model__min_samples_split=2, model__max_features=auto, model__max_depth=5 \n",
      "[CV]  model__n_estimators=100, model__min_samples_split=2, model__max_features=auto, model__max_depth=5, total=   0.2s\n",
      "[CV] model__n_estimators=1000, model__min_samples_split=4, model__max_features=auto, model__max_depth=5 \n",
      "[CV]  model__n_estimators=1000, model__min_samples_split=4, model__max_features=auto, model__max_depth=5, total=   2.1s\n",
      "[CV] model__n_estimators=1000, model__min_samples_split=4, model__max_features=auto, model__max_depth=5 \n",
      "[CV]  model__n_estimators=1000, model__min_samples_split=4, model__max_features=auto, model__max_depth=5, total=   2.3s\n",
      "[CV] model__n_estimators=1000, model__min_samples_split=4, model__max_features=auto, model__max_depth=5 \n",
      "[CV]  model__n_estimators=1000, model__min_samples_split=4, model__max_features=auto, model__max_depth=5, total=   2.3s\n",
      "[CV] model__n_estimators=1000, model__min_samples_split=4, model__max_features=auto, model__max_depth=5 \n",
      "[CV]  model__n_estimators=1000, model__min_samples_split=4, model__max_features=auto, model__max_depth=5, total=   2.3s\n",
      "[CV] model__n_estimators=1000, model__min_samples_split=4, model__max_features=auto, model__max_depth=5 \n",
      "[CV]  model__n_estimators=1000, model__min_samples_split=4, model__max_features=auto, model__max_depth=5, total=   2.4s\n",
      "[CV] model__n_estimators=500, model__min_samples_split=2, model__max_features=auto, model__max_depth=5 \n",
      "[CV]  model__n_estimators=500, model__min_samples_split=2, model__max_features=auto, model__max_depth=5, total=   1.1s\n",
      "[CV] model__n_estimators=500, model__min_samples_split=2, model__max_features=auto, model__max_depth=5 \n",
      "[CV]  model__n_estimators=500, model__min_samples_split=2, model__max_features=auto, model__max_depth=5, total=   1.1s\n",
      "[CV] model__n_estimators=500, model__min_samples_split=2, model__max_features=auto, model__max_depth=5 \n",
      "[CV]  model__n_estimators=500, model__min_samples_split=2, model__max_features=auto, model__max_depth=5, total=   1.1s\n",
      "[CV] model__n_estimators=500, model__min_samples_split=2, model__max_features=auto, model__max_depth=5 \n",
      "[CV]  model__n_estimators=500, model__min_samples_split=2, model__max_features=auto, model__max_depth=5, total=   1.1s\n",
      "[CV] model__n_estimators=500, model__min_samples_split=2, model__max_features=auto, model__max_depth=5 \n",
      "[CV]  model__n_estimators=500, model__min_samples_split=2, model__max_features=auto, model__max_depth=5, total=   1.0s\n",
      "[CV] model__n_estimators=100, model__min_samples_split=5, model__max_features=auto, model__max_depth=25 \n",
      "[CV]  model__n_estimators=100, model__min_samples_split=5, model__max_features=auto, model__max_depth=25, total=   0.3s\n",
      "[CV] model__n_estimators=100, model__min_samples_split=5, model__max_features=auto, model__max_depth=25 \n",
      "[CV]  model__n_estimators=100, model__min_samples_split=5, model__max_features=auto, model__max_depth=25, total=   0.3s\n",
      "[CV] model__n_estimators=100, model__min_samples_split=5, model__max_features=auto, model__max_depth=25 \n",
      "[CV]  model__n_estimators=100, model__min_samples_split=5, model__max_features=auto, model__max_depth=25, total=   0.3s\n",
      "[CV] model__n_estimators=100, model__min_samples_split=5, model__max_features=auto, model__max_depth=25 \n",
      "[CV]  model__n_estimators=100, model__min_samples_split=5, model__max_features=auto, model__max_depth=25, total=   0.3s\n",
      "[CV] model__n_estimators=100, model__min_samples_split=5, model__max_features=auto, model__max_depth=25 \n",
      "[CV]  model__n_estimators=100, model__min_samples_split=5, model__max_features=auto, model__max_depth=25, total=   0.3s\n",
      "[CV] model__n_estimators=500, model__min_samples_split=4, model__max_features=auto, model__max_depth=None \n",
      "[CV]  model__n_estimators=500, model__min_samples_split=4, model__max_features=auto, model__max_depth=None, total=   1.3s\n",
      "[CV] model__n_estimators=500, model__min_samples_split=4, model__max_features=auto, model__max_depth=None \n",
      "[CV]  model__n_estimators=500, model__min_samples_split=4, model__max_features=auto, model__max_depth=None, total=   1.3s\n",
      "[CV] model__n_estimators=500, model__min_samples_split=4, model__max_features=auto, model__max_depth=None \n",
      "[CV]  model__n_estimators=500, model__min_samples_split=4, model__max_features=auto, model__max_depth=None, total=   1.3s\n",
      "[CV] model__n_estimators=500, model__min_samples_split=4, model__max_features=auto, model__max_depth=None \n",
      "[CV]  model__n_estimators=500, model__min_samples_split=4, model__max_features=auto, model__max_depth=None, total=   1.4s\n",
      "[CV] model__n_estimators=500, model__min_samples_split=4, model__max_features=auto, model__max_depth=None \n",
      "[CV]  model__n_estimators=500, model__min_samples_split=4, model__max_features=auto, model__max_depth=None, total=   1.8s\n",
      "[CV] model__n_estimators=500, model__min_samples_split=2, model__max_features=auto, model__max_depth=8 \n",
      "[CV]  model__n_estimators=500, model__min_samples_split=2, model__max_features=auto, model__max_depth=8, total=   1.2s\n",
      "[CV] model__n_estimators=500, model__min_samples_split=2, model__max_features=auto, model__max_depth=8 \n",
      "[CV]  model__n_estimators=500, model__min_samples_split=2, model__max_features=auto, model__max_depth=8, total=   1.2s\n",
      "[CV] model__n_estimators=500, model__min_samples_split=2, model__max_features=auto, model__max_depth=8 \n",
      "[CV]  model__n_estimators=500, model__min_samples_split=2, model__max_features=auto, model__max_depth=8, total=   1.2s\n",
      "[CV] model__n_estimators=500, model__min_samples_split=2, model__max_features=auto, model__max_depth=8 \n"
     ]
    },
    {
     "name": "stdout",
     "output_type": "stream",
     "text": [
      "[CV]  model__n_estimators=500, model__min_samples_split=2, model__max_features=auto, model__max_depth=8, total=   1.3s\n",
      "[CV] model__n_estimators=500, model__min_samples_split=2, model__max_features=auto, model__max_depth=8 \n",
      "[CV]  model__n_estimators=500, model__min_samples_split=2, model__max_features=auto, model__max_depth=8, total=   1.2s\n",
      "[CV] model__n_estimators=500, model__min_samples_split=5, model__max_features=auto, model__max_depth=None \n",
      "[CV]  model__n_estimators=500, model__min_samples_split=5, model__max_features=auto, model__max_depth=None, total=   1.5s\n",
      "[CV] model__n_estimators=500, model__min_samples_split=5, model__max_features=auto, model__max_depth=None \n",
      "[CV]  model__n_estimators=500, model__min_samples_split=5, model__max_features=auto, model__max_depth=None, total=   1.5s\n",
      "[CV] model__n_estimators=500, model__min_samples_split=5, model__max_features=auto, model__max_depth=None \n",
      "[CV]  model__n_estimators=500, model__min_samples_split=5, model__max_features=auto, model__max_depth=None, total=   1.5s\n",
      "[CV] model__n_estimators=500, model__min_samples_split=5, model__max_features=auto, model__max_depth=None \n",
      "[CV]  model__n_estimators=500, model__min_samples_split=5, model__max_features=auto, model__max_depth=None, total=   1.5s\n",
      "[CV] model__n_estimators=500, model__min_samples_split=5, model__max_features=auto, model__max_depth=None \n",
      "[CV]  model__n_estimators=500, model__min_samples_split=5, model__max_features=auto, model__max_depth=None, total=   1.7s\n",
      "[CV] model__n_estimators=500, model__min_samples_split=4, model__max_features=auto, model__max_depth=15 \n",
      "[CV]  model__n_estimators=500, model__min_samples_split=4, model__max_features=auto, model__max_depth=15, total=   2.0s\n",
      "[CV] model__n_estimators=500, model__min_samples_split=4, model__max_features=auto, model__max_depth=15 \n",
      "[CV]  model__n_estimators=500, model__min_samples_split=4, model__max_features=auto, model__max_depth=15, total=   1.4s\n",
      "[CV] model__n_estimators=500, model__min_samples_split=4, model__max_features=auto, model__max_depth=15 \n",
      "[CV]  model__n_estimators=500, model__min_samples_split=4, model__max_features=auto, model__max_depth=15, total=   1.4s\n",
      "[CV] model__n_estimators=500, model__min_samples_split=4, model__max_features=auto, model__max_depth=15 \n",
      "[CV]  model__n_estimators=500, model__min_samples_split=4, model__max_features=auto, model__max_depth=15, total=   1.3s\n",
      "[CV] model__n_estimators=500, model__min_samples_split=4, model__max_features=auto, model__max_depth=15 \n",
      "[CV]  model__n_estimators=500, model__min_samples_split=4, model__max_features=auto, model__max_depth=15, total=   1.6s\n"
     ]
    },
    {
     "name": "stderr",
     "output_type": "stream",
     "text": [
      "[Parallel(n_jobs=1)]: Done  50 out of  50 | elapsed:  1.1min finished\n"
     ]
    },
    {
     "data": {
      "text/plain": [
       "RandomizedSearchCV(cv=5, error_score=nan,\n",
       "                   estimator=Pipeline(memory=None,\n",
       "                                      steps=[('model',\n",
       "                                              RandomForestRegressor(bootstrap=True,\n",
       "                                                                    ccp_alpha=0.0,\n",
       "                                                                    criterion='mse',\n",
       "                                                                    max_depth=None,\n",
       "                                                                    max_features='auto',\n",
       "                                                                    max_leaf_nodes=None,\n",
       "                                                                    max_samples=None,\n",
       "                                                                    min_impurity_decrease=0.0,\n",
       "                                                                    min_impurity_split=None,\n",
       "                                                                    min_samples_leaf=1,\n",
       "                                                                    min_samples_split=2,\n",
       "                                                                    min_weight_fraction_leaf=0.0,\n",
       "                                                                    n_esti...\n",
       "                                                                    random_state=None,\n",
       "                                                                    verbose=0,\n",
       "                                                                    warm_start=False))],\n",
       "                                      verbose=False),\n",
       "                   iid='deprecated', n_iter=10, n_jobs=None,\n",
       "                   param_distributions={'model__max_depth': [5, 8, 15, 25,\n",
       "                                                             None],\n",
       "                                        'model__max_features': ['auto'],\n",
       "                                        'model__min_samples_split': [2, 4, 5],\n",
       "                                        'model__n_estimators': [100, 500,\n",
       "                                                                1000]},\n",
       "                   pre_dispatch='2*n_jobs', random_state=None, refit=True,\n",
       "                   return_train_score=False, scoring=None, verbose=2)"
      ]
     },
     "execution_count": 13,
     "metadata": {},
     "output_type": "execute_result"
    }
   ],
   "source": [
    "pipe_grid = {\"model__n_estimators\":[100,500,1000],\n",
    "             \"model__max_depth\":[5,8,15,25,None],\n",
    "             \"model__max_features\":[\"auto\"],\n",
    "             \"model__min_samples_split\":[2,4,5],         \n",
    "}\n",
    "gs_model = RandomizedSearchCV(model, pipe_grid, cv=5, verbose=2)\n",
    "gs_model.fit(X_train,y_train)"
   ]
  },
  {
   "cell_type": "code",
   "execution_count": 14,
   "metadata": {},
   "outputs": [
    {
     "data": {
      "text/plain": [
       "0.8801036057929125"
      ]
     },
     "execution_count": 14,
     "metadata": {},
     "output_type": "execute_result"
    }
   ],
   "source": [
    "gs_model.score(X_test,y_test)"
   ]
  },
  {
   "cell_type": "code",
   "execution_count": 15,
   "metadata": {},
   "outputs": [
    {
     "name": "stdout",
     "output_type": "stream",
     "text": [
      "r2_score: 87.396901%\n",
      "mean_absolute_error: 2.12\n",
      "mean_squared_error: 9.24\n"
     ]
    },
    {
     "data": {
      "text/plain": [
       "{'r2_score': 0.87, 'mean_absolute_error': 2.12, 'mean_squared_error': 9.24}"
      ]
     },
     "execution_count": 15,
     "metadata": {},
     "output_type": "execute_result"
    }
   ],
   "source": [
    "evaluate_preds(y_test, y_pred)"
   ]
  },
  {
   "cell_type": "markdown",
   "metadata": {},
   "source": [
    "## Saving and loading model"
   ]
  },
  {
   "cell_type": "code",
   "execution_count": 16,
   "metadata": {},
   "outputs": [
    {
     "data": {
      "text/plain": [
       "['bostondf_rgs_regression.joblib']"
      ]
     },
     "execution_count": 16,
     "metadata": {},
     "output_type": "execute_result"
    }
   ],
   "source": [
    "from joblib import dump, load\n",
    "\n",
    "# save model to file\n",
    "dump(gs_model, filename=\"bostondf_rgs_regression.joblib\")"
   ]
  },
  {
   "cell_type": "code",
   "execution_count": 17,
   "metadata": {},
   "outputs": [],
   "source": [
    "# import joblib model\n",
    "loaded_job_model = load(filename=\"bostondf_rgs_regression.joblib\")"
   ]
  },
  {
   "cell_type": "code",
   "execution_count": 18,
   "metadata": {
    "scrolled": true
   },
   "outputs": [
    {
     "name": "stdout",
     "output_type": "stream",
     "text": [
      "r2_score: 88.010361%\n",
      "mean_absolute_error: 2.10\n",
      "mean_squared_error: 8.79\n"
     ]
    },
    {
     "data": {
      "text/plain": [
       "{'r2_score': 0.88, 'mean_absolute_error': 2.1, 'mean_squared_error': 8.79}"
      ]
     },
     "execution_count": 18,
     "metadata": {},
     "output_type": "execute_result"
    }
   ],
   "source": [
    "joblib_y_preds = loaded_job_model.predict(X_test)\n",
    "evaluate_preds(y_test,joblib_y_preds)"
   ]
  },
  {
   "cell_type": "markdown",
   "metadata": {},
   "source": [
    "### Sources and References:\n",
    "\n",
    "https://towardsdatascience.com/hyper-parameter-tuning-and-model-selection-like-a-movie-star-a884b8ee8d68\n",
    "\n",
    "https://www.udemy.com/course/complete-machine-learning-and-data-science-zero-to-mastery/\n",
    "\n",
    "https://www.kaggle.com/ronitf/heart-disease-uci"
   ]
  },
  {
   "cell_type": "code",
   "execution_count": null,
   "metadata": {},
   "outputs": [],
   "source": []
  }
 ],
 "metadata": {
  "kernelspec": {
   "display_name": "Python 3",
   "language": "python",
   "name": "python3"
  },
  "language_info": {
   "codemirror_mode": {
    "name": "ipython",
    "version": 3
   },
   "file_extension": ".py",
   "mimetype": "text/x-python",
   "name": "python",
   "nbconvert_exporter": "python",
   "pygments_lexer": "ipython3",
   "version": "3.7.6"
  }
 },
 "nbformat": 4,
 "nbformat_minor": 4
}
