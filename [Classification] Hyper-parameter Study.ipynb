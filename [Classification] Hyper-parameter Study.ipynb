{
 "cells": [
  {
   "cell_type": "markdown",
   "metadata": {},
   "source": [
    "# Heart Disease Classification Hyperparameter Study"
   ]
  },
  {
   "cell_type": "markdown",
   "metadata": {},
   "source": [
    "## Hyperparameters to play with"
   ]
  },
  {
   "cell_type": "markdown",
   "metadata": {},
   "source": [
    "1. **n_estimator** \n",
    "\n",
    "sets the number of decision trees to be used in the forest.\n",
    "\n",
    "**`[100, 120, 300, 500, 800, 1200]`**\n",
    "\n",
    "2. **max_depth**  \n",
    "\n",
    "set the max depth of the tree.\n",
    "\n",
    "If not set then there is no cap. The tree will keep expanding until all leaves are pure.\n",
    "\n",
    "Limiting the depth is good for pruning trees to prevent over-fitting on noisy data.\n",
    "\n",
    "**`[5, 8, 15, 25, 30, None]`**\n",
    "\n",
    "3. **max_features**\n",
    "\n",
    "set the number of features to consider for the best node split\n",
    "\n",
    "Default is “auto”, which means that the square root of the number of features is used for every split in the tree.\n",
    "\n",
    "“None” means that all features are used for each split.\n",
    "\n",
    "Each decision tree in the random forest will typically use a random subset of features for splitting.\n",
    "\n",
    "**`[log2, sqrt, auto, None]`**\n",
    "\n",
    "4. **min_samples_split**\n",
    "\n",
    "The minimum number of samples needed before a split (differentiation) is made in an internal node\n",
    "\n",
    "**`[1,2,5,10,15,100]`**\n",
    "\n",
    "5. **min_samples_leafs**\n",
    "\n",
    "The minimum number of samples needed to create a leaf (decision) node.\n",
    "\n",
    "Default is 1. This means that a split point at any depth will only be allowed if there is at least 1 sample for each path.\n",
    "\n",
    "**`[1,2,5,10]`**"
   ]
  },
  {
   "cell_type": "markdown",
   "metadata": {},
   "source": [
    "## Import Necessary Libraries"
   ]
  },
  {
   "cell_type": "code",
   "execution_count": 1,
   "metadata": {
    "scrolled": false
   },
   "outputs": [
    {
     "data": {
      "text/plain": [
       "0.8524590163934426"
      ]
     },
     "execution_count": 1,
     "metadata": {},
     "output_type": "execute_result"
    }
   ],
   "source": [
    "import pandas as pd\n",
    "import numpy as np\n",
    "from sklearn.metrics import accuracy_score,precision_score,recall_score,f1_score\n",
    "# set up seed\n",
    "np.random.seed(42)\n",
    "\n",
    "# import and inspect the dataset\n",
    "heartdisease_df = pd.read_csv(\"heart_disease_dataset.csv\")\n",
    "\n",
    "# separate X and y values\n",
    "X = heartdisease_df.drop(columns=\"target\")\n",
    "y = heartdisease_df[\"target\"]\n",
    "\n",
    "# import sklearn's train test split \n",
    "from sklearn.model_selection import train_test_split\n",
    "from sklearn.ensemble import RandomForestClassifier\n",
    "\n",
    "X_train, X_test, y_train, y_test = train_test_split(X,y, test_size=0.2)\n",
    "\n",
    "clf = RandomForestClassifier()\n",
    "\n",
    "# fitting the model and training on the test set\n",
    "clf.fit(X_train,y_train)\n",
    "clf.score(X_test, y_test)"
   ]
  },
  {
   "cell_type": "markdown",
   "metadata": {},
   "source": [
    "## Define Evaluation Metrics"
   ]
  },
  {
   "cell_type": "code",
   "execution_count": 2,
   "metadata": {},
   "outputs": [],
   "source": [
    "def evaluate_preds(y_true, y_preds):\n",
    "    accuracy = accuracy_score(y_true, y_preds)\n",
    "    precision = precision_score(y_true, y_preds)\n",
    "    recall = recall_score(y_true, y_preds)\n",
    "    f1 = f1_score(y_true, y_preds)\n",
    "    metric_dict = {\"accuracy\": round(accuracy, 2),\n",
    "                   \"precision\": round(precision,2),\n",
    "                   \"recall\": round(recall,2),\n",
    "                   \"f1\":round(f1,2)}\n",
    "    print(f\"Accuracy: {accuracy * 100:2f}%\")\n",
    "    print(f\"Precision: {precision:.2f}\")\n",
    "    print(f\"Recall: {recall:.2f}\")\n",
    "    print(f\"F1 Score: {f1:.2f}\")\n",
    "    \n",
    "    return metric_dict"
   ]
  },
  {
   "cell_type": "markdown",
   "metadata": {},
   "source": [
    "## Using RandomizedSearchCV to find the best Hyperparameters"
   ]
  },
  {
   "cell_type": "code",
   "execution_count": 3,
   "metadata": {},
   "outputs": [
    {
     "name": "stdout",
     "output_type": "stream",
     "text": [
      "Fitting 5 folds for each of 10 candidates, totalling 50 fits\n",
      "[CV] n_estimators=500, min_samples_split=10, min_samples_leaf=1, max_features=auto, max_depth=15 \n"
     ]
    },
    {
     "name": "stderr",
     "output_type": "stream",
     "text": [
      "[Parallel(n_jobs=1)]: Using backend SequentialBackend with 1 concurrent workers.\n"
     ]
    },
    {
     "name": "stdout",
     "output_type": "stream",
     "text": [
      "[CV]  n_estimators=500, min_samples_split=10, min_samples_leaf=1, max_features=auto, max_depth=15, total=   1.0s\n",
      "[CV] n_estimators=500, min_samples_split=10, min_samples_leaf=1, max_features=auto, max_depth=15 \n"
     ]
    },
    {
     "name": "stderr",
     "output_type": "stream",
     "text": [
      "[Parallel(n_jobs=1)]: Done   1 out of   1 | elapsed:    0.9s remaining:    0.0s\n"
     ]
    },
    {
     "name": "stdout",
     "output_type": "stream",
     "text": [
      "[CV]  n_estimators=500, min_samples_split=10, min_samples_leaf=1, max_features=auto, max_depth=15, total=   0.9s\n",
      "[CV] n_estimators=500, min_samples_split=10, min_samples_leaf=1, max_features=auto, max_depth=15 \n",
      "[CV]  n_estimators=500, min_samples_split=10, min_samples_leaf=1, max_features=auto, max_depth=15, total=   1.0s\n",
      "[CV] n_estimators=500, min_samples_split=10, min_samples_leaf=1, max_features=auto, max_depth=15 \n",
      "[CV]  n_estimators=500, min_samples_split=10, min_samples_leaf=1, max_features=auto, max_depth=15, total=   0.9s\n",
      "[CV] n_estimators=500, min_samples_split=10, min_samples_leaf=1, max_features=auto, max_depth=15 \n",
      "[CV]  n_estimators=500, min_samples_split=10, min_samples_leaf=1, max_features=auto, max_depth=15, total=   0.9s\n",
      "[CV] n_estimators=1000, min_samples_split=2, min_samples_leaf=10, max_features=auto, max_depth=25 \n",
      "[CV]  n_estimators=1000, min_samples_split=2, min_samples_leaf=10, max_features=auto, max_depth=25, total=   1.7s\n",
      "[CV] n_estimators=1000, min_samples_split=2, min_samples_leaf=10, max_features=auto, max_depth=25 \n",
      "[CV]  n_estimators=1000, min_samples_split=2, min_samples_leaf=10, max_features=auto, max_depth=25, total=   1.9s\n",
      "[CV] n_estimators=1000, min_samples_split=2, min_samples_leaf=10, max_features=auto, max_depth=25 \n",
      "[CV]  n_estimators=1000, min_samples_split=2, min_samples_leaf=10, max_features=auto, max_depth=25, total=   1.7s\n",
      "[CV] n_estimators=1000, min_samples_split=2, min_samples_leaf=10, max_features=auto, max_depth=25 \n",
      "[CV]  n_estimators=1000, min_samples_split=2, min_samples_leaf=10, max_features=auto, max_depth=25, total=   1.7s\n",
      "[CV] n_estimators=1000, min_samples_split=2, min_samples_leaf=10, max_features=auto, max_depth=25 \n",
      "[CV]  n_estimators=1000, min_samples_split=2, min_samples_leaf=10, max_features=auto, max_depth=25, total=   1.6s\n",
      "[CV] n_estimators=1000, min_samples_split=5, min_samples_leaf=1, max_features=auto, max_depth=None \n",
      "[CV]  n_estimators=1000, min_samples_split=5, min_samples_leaf=1, max_features=auto, max_depth=None, total=   1.7s\n",
      "[CV] n_estimators=1000, min_samples_split=5, min_samples_leaf=1, max_features=auto, max_depth=None \n",
      "[CV]  n_estimators=1000, min_samples_split=5, min_samples_leaf=1, max_features=auto, max_depth=None, total=   1.6s\n",
      "[CV] n_estimators=1000, min_samples_split=5, min_samples_leaf=1, max_features=auto, max_depth=None \n",
      "[CV]  n_estimators=1000, min_samples_split=5, min_samples_leaf=1, max_features=auto, max_depth=None, total=   1.7s\n",
      "[CV] n_estimators=1000, min_samples_split=5, min_samples_leaf=1, max_features=auto, max_depth=None \n",
      "[CV]  n_estimators=1000, min_samples_split=5, min_samples_leaf=1, max_features=auto, max_depth=None, total=   1.6s\n",
      "[CV] n_estimators=1000, min_samples_split=5, min_samples_leaf=1, max_features=auto, max_depth=None \n",
      "[CV]  n_estimators=1000, min_samples_split=5, min_samples_leaf=1, max_features=auto, max_depth=None, total=   1.6s\n",
      "[CV] n_estimators=300, min_samples_split=10, min_samples_leaf=10, max_features=auto, max_depth=15 \n",
      "[CV]  n_estimators=300, min_samples_split=10, min_samples_leaf=10, max_features=auto, max_depth=15, total=   0.5s\n",
      "[CV] n_estimators=300, min_samples_split=10, min_samples_leaf=10, max_features=auto, max_depth=15 \n",
      "[CV]  n_estimators=300, min_samples_split=10, min_samples_leaf=10, max_features=auto, max_depth=15, total=   0.5s\n",
      "[CV] n_estimators=300, min_samples_split=10, min_samples_leaf=10, max_features=auto, max_depth=15 \n",
      "[CV]  n_estimators=300, min_samples_split=10, min_samples_leaf=10, max_features=auto, max_depth=15, total=   0.5s\n",
      "[CV] n_estimators=300, min_samples_split=10, min_samples_leaf=10, max_features=auto, max_depth=15 \n",
      "[CV]  n_estimators=300, min_samples_split=10, min_samples_leaf=10, max_features=auto, max_depth=15, total=   0.5s\n",
      "[CV] n_estimators=300, min_samples_split=10, min_samples_leaf=10, max_features=auto, max_depth=15 \n",
      "[CV]  n_estimators=300, min_samples_split=10, min_samples_leaf=10, max_features=auto, max_depth=15, total=   0.5s\n",
      "[CV] n_estimators=1000, min_samples_split=5, min_samples_leaf=5, max_features=sqrt, max_depth=None \n",
      "[CV]  n_estimators=1000, min_samples_split=5, min_samples_leaf=5, max_features=sqrt, max_depth=None, total=   1.6s\n",
      "[CV] n_estimators=1000, min_samples_split=5, min_samples_leaf=5, max_features=sqrt, max_depth=None \n",
      "[CV]  n_estimators=1000, min_samples_split=5, min_samples_leaf=5, max_features=sqrt, max_depth=None, total=   1.6s\n",
      "[CV] n_estimators=1000, min_samples_split=5, min_samples_leaf=5, max_features=sqrt, max_depth=None \n",
      "[CV]  n_estimators=1000, min_samples_split=5, min_samples_leaf=5, max_features=sqrt, max_depth=None, total=   1.6s\n",
      "[CV] n_estimators=1000, min_samples_split=5, min_samples_leaf=5, max_features=sqrt, max_depth=None \n",
      "[CV]  n_estimators=1000, min_samples_split=5, min_samples_leaf=5, max_features=sqrt, max_depth=None, total=   1.6s\n",
      "[CV] n_estimators=1000, min_samples_split=5, min_samples_leaf=5, max_features=sqrt, max_depth=None \n",
      "[CV]  n_estimators=1000, min_samples_split=5, min_samples_leaf=5, max_features=sqrt, max_depth=None, total=   1.6s\n",
      "[CV] n_estimators=1000, min_samples_split=10, min_samples_leaf=5, max_features=auto, max_depth=30 \n",
      "[CV]  n_estimators=1000, min_samples_split=10, min_samples_leaf=5, max_features=auto, max_depth=30, total=   1.6s\n",
      "[CV] n_estimators=1000, min_samples_split=10, min_samples_leaf=5, max_features=auto, max_depth=30 \n",
      "[CV]  n_estimators=1000, min_samples_split=10, min_samples_leaf=5, max_features=auto, max_depth=30, total=   1.6s\n",
      "[CV] n_estimators=1000, min_samples_split=10, min_samples_leaf=5, max_features=auto, max_depth=30 \n",
      "[CV]  n_estimators=1000, min_samples_split=10, min_samples_leaf=5, max_features=auto, max_depth=30, total=   1.6s\n",
      "[CV] n_estimators=1000, min_samples_split=10, min_samples_leaf=5, max_features=auto, max_depth=30 \n",
      "[CV]  n_estimators=1000, min_samples_split=10, min_samples_leaf=5, max_features=auto, max_depth=30, total=   1.6s\n",
      "[CV] n_estimators=1000, min_samples_split=10, min_samples_leaf=5, max_features=auto, max_depth=30 \n",
      "[CV]  n_estimators=1000, min_samples_split=10, min_samples_leaf=5, max_features=auto, max_depth=30, total=   1.6s\n",
      "[CV] n_estimators=100, min_samples_split=5, min_samples_leaf=5, max_features=sqrt, max_depth=25 \n",
      "[CV]  n_estimators=100, min_samples_split=5, min_samples_leaf=5, max_features=sqrt, max_depth=25, total=   0.2s\n",
      "[CV] n_estimators=100, min_samples_split=5, min_samples_leaf=5, max_features=sqrt, max_depth=25 \n",
      "[CV]  n_estimators=100, min_samples_split=5, min_samples_leaf=5, max_features=sqrt, max_depth=25, total=   0.2s\n",
      "[CV] n_estimators=100, min_samples_split=5, min_samples_leaf=5, max_features=sqrt, max_depth=25 \n",
      "[CV]  n_estimators=100, min_samples_split=5, min_samples_leaf=5, max_features=sqrt, max_depth=25, total=   0.2s\n",
      "[CV] n_estimators=100, min_samples_split=5, min_samples_leaf=5, max_features=sqrt, max_depth=25 \n",
      "[CV]  n_estimators=100, min_samples_split=5, min_samples_leaf=5, max_features=sqrt, max_depth=25, total=   0.2s\n",
      "[CV] n_estimators=100, min_samples_split=5, min_samples_leaf=5, max_features=sqrt, max_depth=25 \n",
      "[CV]  n_estimators=100, min_samples_split=5, min_samples_leaf=5, max_features=sqrt, max_depth=25, total=   0.2s\n",
      "[CV] n_estimators=120, min_samples_split=10, min_samples_leaf=10, max_features=auto, max_depth=30 \n",
      "[CV]  n_estimators=120, min_samples_split=10, min_samples_leaf=10, max_features=auto, max_depth=30, total=   0.2s\n",
      "[CV] n_estimators=120, min_samples_split=10, min_samples_leaf=10, max_features=auto, max_depth=30 \n",
      "[CV]  n_estimators=120, min_samples_split=10, min_samples_leaf=10, max_features=auto, max_depth=30, total=   0.2s\n",
      "[CV] n_estimators=120, min_samples_split=10, min_samples_leaf=10, max_features=auto, max_depth=30 \n",
      "[CV]  n_estimators=120, min_samples_split=10, min_samples_leaf=10, max_features=auto, max_depth=30, total=   0.2s\n",
      "[CV] n_estimators=120, min_samples_split=10, min_samples_leaf=10, max_features=auto, max_depth=30 \n",
      "[CV]  n_estimators=120, min_samples_split=10, min_samples_leaf=10, max_features=auto, max_depth=30, total=   0.2s\n",
      "[CV] n_estimators=120, min_samples_split=10, min_samples_leaf=10, max_features=auto, max_depth=30 \n",
      "[CV]  n_estimators=120, min_samples_split=10, min_samples_leaf=10, max_features=auto, max_depth=30, total=   0.2s\n",
      "[CV] n_estimators=300, min_samples_split=2, min_samples_leaf=5, max_features=auto, max_depth=5 \n"
     ]
    },
    {
     "name": "stdout",
     "output_type": "stream",
     "text": [
      "[CV]  n_estimators=300, min_samples_split=2, min_samples_leaf=5, max_features=auto, max_depth=5, total=   0.5s\n",
      "[CV] n_estimators=300, min_samples_split=2, min_samples_leaf=5, max_features=auto, max_depth=5 \n",
      "[CV]  n_estimators=300, min_samples_split=2, min_samples_leaf=5, max_features=auto, max_depth=5, total=   0.5s\n",
      "[CV] n_estimators=300, min_samples_split=2, min_samples_leaf=5, max_features=auto, max_depth=5 \n",
      "[CV]  n_estimators=300, min_samples_split=2, min_samples_leaf=5, max_features=auto, max_depth=5, total=   0.5s\n",
      "[CV] n_estimators=300, min_samples_split=2, min_samples_leaf=5, max_features=auto, max_depth=5 \n",
      "[CV]  n_estimators=300, min_samples_split=2, min_samples_leaf=5, max_features=auto, max_depth=5, total=   0.5s\n",
      "[CV] n_estimators=300, min_samples_split=2, min_samples_leaf=5, max_features=auto, max_depth=5 \n",
      "[CV]  n_estimators=300, min_samples_split=2, min_samples_leaf=5, max_features=auto, max_depth=5, total=   0.5s\n",
      "[CV] n_estimators=800, min_samples_split=15, min_samples_leaf=10, max_features=sqrt, max_depth=15 \n",
      "[CV]  n_estimators=800, min_samples_split=15, min_samples_leaf=10, max_features=sqrt, max_depth=15, total=   1.2s\n",
      "[CV] n_estimators=800, min_samples_split=15, min_samples_leaf=10, max_features=sqrt, max_depth=15 \n",
      "[CV]  n_estimators=800, min_samples_split=15, min_samples_leaf=10, max_features=sqrt, max_depth=15, total=   1.3s\n",
      "[CV] n_estimators=800, min_samples_split=15, min_samples_leaf=10, max_features=sqrt, max_depth=15 \n",
      "[CV]  n_estimators=800, min_samples_split=15, min_samples_leaf=10, max_features=sqrt, max_depth=15, total=   1.2s\n",
      "[CV] n_estimators=800, min_samples_split=15, min_samples_leaf=10, max_features=sqrt, max_depth=15 \n",
      "[CV]  n_estimators=800, min_samples_split=15, min_samples_leaf=10, max_features=sqrt, max_depth=15, total=   1.2s\n",
      "[CV] n_estimators=800, min_samples_split=15, min_samples_leaf=10, max_features=sqrt, max_depth=15 \n",
      "[CV]  n_estimators=800, min_samples_split=15, min_samples_leaf=10, max_features=sqrt, max_depth=15, total=   1.2s\n"
     ]
    },
    {
     "name": "stderr",
     "output_type": "stream",
     "text": [
      "[Parallel(n_jobs=1)]: Done  50 out of  50 | elapsed:   50.1s finished\n"
     ]
    }
   ],
   "source": [
    "from sklearn.model_selection import RandomizedSearchCV\n",
    "\n",
    "param_grid = {\"n_estimators\":[100,120,300,500,800,1000],\n",
    "              \"max_depth\":[5,8,15,25,30,None],\n",
    "              \"max_features\":[\"auto\",\"sqrt\"],\n",
    "              \"min_samples_split\":[2,5,10,15],\n",
    "              \"min_samples_leaf\":[1,2,5,10]\n",
    "               \n",
    "}\n",
    "\n",
    "# n_jobs=1 ; pertains to the amount of core processor to be used\n",
    "clf = RandomForestClassifier(n_jobs=1)\n",
    "\n",
    "# setup RandomizedSearchCV\n",
    "rs_clf = RandomizedSearchCV(estimator=clf,\n",
    "                            param_distributions=param_grid,\n",
    "                            n_iter=10,\n",
    "                            cv=5,\n",
    "                            verbose=2)\n",
    "\n",
    "# fit randomized search to the training data\n",
    "rs_clf.fit(X_train, y_train);"
   ]
  },
  {
   "cell_type": "code",
   "execution_count": 4,
   "metadata": {},
   "outputs": [
    {
     "data": {
      "text/plain": [
       "{'n_estimators': 1000,\n",
       " 'min_samples_split': 2,\n",
       " 'min_samples_leaf': 10,\n",
       " 'max_features': 'auto',\n",
       " 'max_depth': 25}"
      ]
     },
     "execution_count": 4,
     "metadata": {},
     "output_type": "execute_result"
    }
   ],
   "source": [
    "rs_clf.best_params_"
   ]
  },
  {
   "cell_type": "code",
   "execution_count": 5,
   "metadata": {},
   "outputs": [
    {
     "name": "stdout",
     "output_type": "stream",
     "text": [
      "Accuracy: 86.885246%\n",
      "Precision: 0.85\n",
      "Recall: 0.91\n",
      "F1 Score: 0.88\n"
     ]
    }
   ],
   "source": [
    "rs_y_preds = rs_clf.predict(X_test)\n",
    "rs_metrics = evaluate_preds(y_test, rs_y_preds)"
   ]
  },
  {
   "cell_type": "markdown",
   "metadata": {},
   "source": [
    "## Putting it all together with Pipeline"
   ]
  },
  {
   "cell_type": "code",
   "execution_count": 6,
   "metadata": {},
   "outputs": [
    {
     "data": {
      "text/plain": [
       "0.8524590163934426"
      ]
     },
     "execution_count": 6,
     "metadata": {},
     "output_type": "execute_result"
    }
   ],
   "source": [
    "# import libraries\n",
    "import pandas as pd\n",
    "import numpy as np\n",
    "\n",
    "from sklearn.model_selection import train_test_split\n",
    "from sklearn.ensemble import RandomForestClassifier\n",
    "from sklearn.metrics import accuracy_score,precision_score,recall_score,f1_score\n",
    "from sklearn.model_selection import RandomizedSearchCV\n",
    "from sklearn.pipeline import Pipeline\n",
    "\n",
    "# generate seed\n",
    "np.random.seed(42)\n",
    "\n",
    "# import dataset\n",
    "heartdisease_df = pd.read_csv(\"heart_disease_dataset.csv\")\n",
    "\n",
    "# create a modeling pipeline\n",
    "model = Pipeline(steps=[(\"model\", RandomForestClassifier())])\n",
    "\n",
    "# split X and y target and features\n",
    "X = heartdisease_df.drop(columns=\"target\")\n",
    "y = heartdisease_df[\"target\"]\n",
    "\n",
    "# generate train test split\n",
    "X_train, X_test, y_train, y_test = train_test_split(X,y, test_size=0.2)\n",
    "\n",
    "# fitting and scoring the dataset\n",
    "model.fit(X_train, y_train)\n",
    "model.score(X_test, y_test)"
   ]
  },
  {
   "cell_type": "code",
   "execution_count": 7,
   "metadata": {
    "scrolled": true
   },
   "outputs": [
    {
     "name": "stdout",
     "output_type": "stream",
     "text": [
      "Fitting 5 folds for each of 10 candidates, totalling 50 fits\n",
      "[CV] model__n_estimators=500, model__min_samples_split=10, model__min_samples_leaf=1, model__max_features=auto, model__max_depth=15 \n"
     ]
    },
    {
     "name": "stderr",
     "output_type": "stream",
     "text": [
      "[Parallel(n_jobs=1)]: Using backend SequentialBackend with 1 concurrent workers.\n"
     ]
    },
    {
     "name": "stdout",
     "output_type": "stream",
     "text": [
      "[CV]  model__n_estimators=500, model__min_samples_split=10, model__min_samples_leaf=1, model__max_features=auto, model__max_depth=15, total=   0.8s\n",
      "[CV] model__n_estimators=500, model__min_samples_split=10, model__min_samples_leaf=1, model__max_features=auto, model__max_depth=15 \n"
     ]
    },
    {
     "name": "stderr",
     "output_type": "stream",
     "text": [
      "[Parallel(n_jobs=1)]: Done   1 out of   1 | elapsed:    0.7s remaining:    0.0s\n"
     ]
    },
    {
     "name": "stdout",
     "output_type": "stream",
     "text": [
      "[CV]  model__n_estimators=500, model__min_samples_split=10, model__min_samples_leaf=1, model__max_features=auto, model__max_depth=15, total=   0.8s\n",
      "[CV] model__n_estimators=500, model__min_samples_split=10, model__min_samples_leaf=1, model__max_features=auto, model__max_depth=15 \n",
      "[CV]  model__n_estimators=500, model__min_samples_split=10, model__min_samples_leaf=1, model__max_features=auto, model__max_depth=15, total=   0.8s\n",
      "[CV] model__n_estimators=500, model__min_samples_split=10, model__min_samples_leaf=1, model__max_features=auto, model__max_depth=15 \n",
      "[CV]  model__n_estimators=500, model__min_samples_split=10, model__min_samples_leaf=1, model__max_features=auto, model__max_depth=15, total=   0.8s\n",
      "[CV] model__n_estimators=500, model__min_samples_split=10, model__min_samples_leaf=1, model__max_features=auto, model__max_depth=15 \n",
      "[CV]  model__n_estimators=500, model__min_samples_split=10, model__min_samples_leaf=1, model__max_features=auto, model__max_depth=15, total=   0.8s\n",
      "[CV] model__n_estimators=1000, model__min_samples_split=2, model__min_samples_leaf=10, model__max_features=auto, model__max_depth=25 \n",
      "[CV]  model__n_estimators=1000, model__min_samples_split=2, model__min_samples_leaf=10, model__max_features=auto, model__max_depth=25, total=   1.7s\n",
      "[CV] model__n_estimators=1000, model__min_samples_split=2, model__min_samples_leaf=10, model__max_features=auto, model__max_depth=25 \n",
      "[CV]  model__n_estimators=1000, model__min_samples_split=2, model__min_samples_leaf=10, model__max_features=auto, model__max_depth=25, total=   1.7s\n",
      "[CV] model__n_estimators=1000, model__min_samples_split=2, model__min_samples_leaf=10, model__max_features=auto, model__max_depth=25 \n",
      "[CV]  model__n_estimators=1000, model__min_samples_split=2, model__min_samples_leaf=10, model__max_features=auto, model__max_depth=25, total=   1.6s\n",
      "[CV] model__n_estimators=1000, model__min_samples_split=2, model__min_samples_leaf=10, model__max_features=auto, model__max_depth=25 \n",
      "[CV]  model__n_estimators=1000, model__min_samples_split=2, model__min_samples_leaf=10, model__max_features=auto, model__max_depth=25, total=   1.6s\n",
      "[CV] model__n_estimators=1000, model__min_samples_split=2, model__min_samples_leaf=10, model__max_features=auto, model__max_depth=25 \n",
      "[CV]  model__n_estimators=1000, model__min_samples_split=2, model__min_samples_leaf=10, model__max_features=auto, model__max_depth=25, total=   1.7s\n",
      "[CV] model__n_estimators=1000, model__min_samples_split=5, model__min_samples_leaf=1, model__max_features=auto, model__max_depth=None \n",
      "[CV]  model__n_estimators=1000, model__min_samples_split=5, model__min_samples_leaf=1, model__max_features=auto, model__max_depth=None, total=   2.0s\n",
      "[CV] model__n_estimators=1000, model__min_samples_split=5, model__min_samples_leaf=1, model__max_features=auto, model__max_depth=None \n",
      "[CV]  model__n_estimators=1000, model__min_samples_split=5, model__min_samples_leaf=1, model__max_features=auto, model__max_depth=None, total=   1.7s\n",
      "[CV] model__n_estimators=1000, model__min_samples_split=5, model__min_samples_leaf=1, model__max_features=auto, model__max_depth=None \n",
      "[CV]  model__n_estimators=1000, model__min_samples_split=5, model__min_samples_leaf=1, model__max_features=auto, model__max_depth=None, total=   1.7s\n",
      "[CV] model__n_estimators=1000, model__min_samples_split=5, model__min_samples_leaf=1, model__max_features=auto, model__max_depth=None \n",
      "[CV]  model__n_estimators=1000, model__min_samples_split=5, model__min_samples_leaf=1, model__max_features=auto, model__max_depth=None, total=   1.7s\n",
      "[CV] model__n_estimators=1000, model__min_samples_split=5, model__min_samples_leaf=1, model__max_features=auto, model__max_depth=None \n",
      "[CV]  model__n_estimators=1000, model__min_samples_split=5, model__min_samples_leaf=1, model__max_features=auto, model__max_depth=None, total=   1.7s\n",
      "[CV] model__n_estimators=300, model__min_samples_split=10, model__min_samples_leaf=10, model__max_features=auto, model__max_depth=15 \n",
      "[CV]  model__n_estimators=300, model__min_samples_split=10, model__min_samples_leaf=10, model__max_features=auto, model__max_depth=15, total=   0.5s\n",
      "[CV] model__n_estimators=300, model__min_samples_split=10, model__min_samples_leaf=10, model__max_features=auto, model__max_depth=15 \n",
      "[CV]  model__n_estimators=300, model__min_samples_split=10, model__min_samples_leaf=10, model__max_features=auto, model__max_depth=15, total=   0.5s\n",
      "[CV] model__n_estimators=300, model__min_samples_split=10, model__min_samples_leaf=10, model__max_features=auto, model__max_depth=15 \n",
      "[CV]  model__n_estimators=300, model__min_samples_split=10, model__min_samples_leaf=10, model__max_features=auto, model__max_depth=15, total=   0.5s\n",
      "[CV] model__n_estimators=300, model__min_samples_split=10, model__min_samples_leaf=10, model__max_features=auto, model__max_depth=15 \n",
      "[CV]  model__n_estimators=300, model__min_samples_split=10, model__min_samples_leaf=10, model__max_features=auto, model__max_depth=15, total=   0.5s\n",
      "[CV] model__n_estimators=300, model__min_samples_split=10, model__min_samples_leaf=10, model__max_features=auto, model__max_depth=15 \n",
      "[CV]  model__n_estimators=300, model__min_samples_split=10, model__min_samples_leaf=10, model__max_features=auto, model__max_depth=15, total=   0.5s\n",
      "[CV] model__n_estimators=1000, model__min_samples_split=5, model__min_samples_leaf=5, model__max_features=sqrt, model__max_depth=None \n",
      "[CV]  model__n_estimators=1000, model__min_samples_split=5, model__min_samples_leaf=5, model__max_features=sqrt, model__max_depth=None, total=   1.7s\n",
      "[CV] model__n_estimators=1000, model__min_samples_split=5, model__min_samples_leaf=5, model__max_features=sqrt, model__max_depth=None \n",
      "[CV]  model__n_estimators=1000, model__min_samples_split=5, model__min_samples_leaf=5, model__max_features=sqrt, model__max_depth=None, total=   1.6s\n",
      "[CV] model__n_estimators=1000, model__min_samples_split=5, model__min_samples_leaf=5, model__max_features=sqrt, model__max_depth=None \n",
      "[CV]  model__n_estimators=1000, model__min_samples_split=5, model__min_samples_leaf=5, model__max_features=sqrt, model__max_depth=None, total=   1.6s\n",
      "[CV] model__n_estimators=1000, model__min_samples_split=5, model__min_samples_leaf=5, model__max_features=sqrt, model__max_depth=None \n",
      "[CV]  model__n_estimators=1000, model__min_samples_split=5, model__min_samples_leaf=5, model__max_features=sqrt, model__max_depth=None, total=   1.7s\n",
      "[CV] model__n_estimators=1000, model__min_samples_split=5, model__min_samples_leaf=5, model__max_features=sqrt, model__max_depth=None \n",
      "[CV]  model__n_estimators=1000, model__min_samples_split=5, model__min_samples_leaf=5, model__max_features=sqrt, model__max_depth=None, total=   1.8s\n",
      "[CV] model__n_estimators=1000, model__min_samples_split=10, model__min_samples_leaf=5, model__max_features=auto, model__max_depth=30 \n",
      "[CV]  model__n_estimators=1000, model__min_samples_split=10, model__min_samples_leaf=5, model__max_features=auto, model__max_depth=30, total=   1.8s\n",
      "[CV] model__n_estimators=1000, model__min_samples_split=10, model__min_samples_leaf=5, model__max_features=auto, model__max_depth=30 \n",
      "[CV]  model__n_estimators=1000, model__min_samples_split=10, model__min_samples_leaf=5, model__max_features=auto, model__max_depth=30, total=   1.7s\n",
      "[CV] model__n_estimators=1000, model__min_samples_split=10, model__min_samples_leaf=5, model__max_features=auto, model__max_depth=30 \n",
      "[CV]  model__n_estimators=1000, model__min_samples_split=10, model__min_samples_leaf=5, model__max_features=auto, model__max_depth=30, total=   1.8s\n",
      "[CV] model__n_estimators=1000, model__min_samples_split=10, model__min_samples_leaf=5, model__max_features=auto, model__max_depth=30 \n",
      "[CV]  model__n_estimators=1000, model__min_samples_split=10, model__min_samples_leaf=5, model__max_features=auto, model__max_depth=30, total=   1.8s\n",
      "[CV] model__n_estimators=1000, model__min_samples_split=10, model__min_samples_leaf=5, model__max_features=auto, model__max_depth=30 \n",
      "[CV]  model__n_estimators=1000, model__min_samples_split=10, model__min_samples_leaf=5, model__max_features=auto, model__max_depth=30, total=   1.7s\n",
      "[CV] model__n_estimators=100, model__min_samples_split=5, model__min_samples_leaf=5, model__max_features=sqrt, model__max_depth=25 \n",
      "[CV]  model__n_estimators=100, model__min_samples_split=5, model__min_samples_leaf=5, model__max_features=sqrt, model__max_depth=25, total=   0.2s\n",
      "[CV] model__n_estimators=100, model__min_samples_split=5, model__min_samples_leaf=5, model__max_features=sqrt, model__max_depth=25 \n"
     ]
    },
    {
     "name": "stdout",
     "output_type": "stream",
     "text": [
      "[CV]  model__n_estimators=100, model__min_samples_split=5, model__min_samples_leaf=5, model__max_features=sqrt, model__max_depth=25, total=   0.2s\n",
      "[CV] model__n_estimators=100, model__min_samples_split=5, model__min_samples_leaf=5, model__max_features=sqrt, model__max_depth=25 \n",
      "[CV]  model__n_estimators=100, model__min_samples_split=5, model__min_samples_leaf=5, model__max_features=sqrt, model__max_depth=25, total=   0.2s\n",
      "[CV] model__n_estimators=100, model__min_samples_split=5, model__min_samples_leaf=5, model__max_features=sqrt, model__max_depth=25 \n",
      "[CV]  model__n_estimators=100, model__min_samples_split=5, model__min_samples_leaf=5, model__max_features=sqrt, model__max_depth=25, total=   0.2s\n",
      "[CV] model__n_estimators=100, model__min_samples_split=5, model__min_samples_leaf=5, model__max_features=sqrt, model__max_depth=25 \n",
      "[CV]  model__n_estimators=100, model__min_samples_split=5, model__min_samples_leaf=5, model__max_features=sqrt, model__max_depth=25, total=   0.2s\n",
      "[CV] model__n_estimators=120, model__min_samples_split=10, model__min_samples_leaf=10, model__max_features=auto, model__max_depth=30 \n",
      "[CV]  model__n_estimators=120, model__min_samples_split=10, model__min_samples_leaf=10, model__max_features=auto, model__max_depth=30, total=   0.2s\n",
      "[CV] model__n_estimators=120, model__min_samples_split=10, model__min_samples_leaf=10, model__max_features=auto, model__max_depth=30 \n",
      "[CV]  model__n_estimators=120, model__min_samples_split=10, model__min_samples_leaf=10, model__max_features=auto, model__max_depth=30, total=   0.2s\n",
      "[CV] model__n_estimators=120, model__min_samples_split=10, model__min_samples_leaf=10, model__max_features=auto, model__max_depth=30 \n",
      "[CV]  model__n_estimators=120, model__min_samples_split=10, model__min_samples_leaf=10, model__max_features=auto, model__max_depth=30, total=   0.2s\n",
      "[CV] model__n_estimators=120, model__min_samples_split=10, model__min_samples_leaf=10, model__max_features=auto, model__max_depth=30 \n",
      "[CV]  model__n_estimators=120, model__min_samples_split=10, model__min_samples_leaf=10, model__max_features=auto, model__max_depth=30, total=   0.2s\n",
      "[CV] model__n_estimators=120, model__min_samples_split=10, model__min_samples_leaf=10, model__max_features=auto, model__max_depth=30 \n",
      "[CV]  model__n_estimators=120, model__min_samples_split=10, model__min_samples_leaf=10, model__max_features=auto, model__max_depth=30, total=   0.2s\n",
      "[CV] model__n_estimators=300, model__min_samples_split=2, model__min_samples_leaf=5, model__max_features=auto, model__max_depth=5 \n",
      "[CV]  model__n_estimators=300, model__min_samples_split=2, model__min_samples_leaf=5, model__max_features=auto, model__max_depth=5, total=   0.5s\n",
      "[CV] model__n_estimators=300, model__min_samples_split=2, model__min_samples_leaf=5, model__max_features=auto, model__max_depth=5 \n",
      "[CV]  model__n_estimators=300, model__min_samples_split=2, model__min_samples_leaf=5, model__max_features=auto, model__max_depth=5, total=   0.5s\n",
      "[CV] model__n_estimators=300, model__min_samples_split=2, model__min_samples_leaf=5, model__max_features=auto, model__max_depth=5 \n",
      "[CV]  model__n_estimators=300, model__min_samples_split=2, model__min_samples_leaf=5, model__max_features=auto, model__max_depth=5, total=   0.5s\n",
      "[CV] model__n_estimators=300, model__min_samples_split=2, model__min_samples_leaf=5, model__max_features=auto, model__max_depth=5 \n",
      "[CV]  model__n_estimators=300, model__min_samples_split=2, model__min_samples_leaf=5, model__max_features=auto, model__max_depth=5, total=   0.5s\n",
      "[CV] model__n_estimators=300, model__min_samples_split=2, model__min_samples_leaf=5, model__max_features=auto, model__max_depth=5 \n",
      "[CV]  model__n_estimators=300, model__min_samples_split=2, model__min_samples_leaf=5, model__max_features=auto, model__max_depth=5, total=   0.5s\n",
      "[CV] model__n_estimators=800, model__min_samples_split=15, model__min_samples_leaf=10, model__max_features=sqrt, model__max_depth=15 \n",
      "[CV]  model__n_estimators=800, model__min_samples_split=15, model__min_samples_leaf=10, model__max_features=sqrt, model__max_depth=15, total=   1.2s\n",
      "[CV] model__n_estimators=800, model__min_samples_split=15, model__min_samples_leaf=10, model__max_features=sqrt, model__max_depth=15 \n",
      "[CV]  model__n_estimators=800, model__min_samples_split=15, model__min_samples_leaf=10, model__max_features=sqrt, model__max_depth=15, total=   1.3s\n",
      "[CV] model__n_estimators=800, model__min_samples_split=15, model__min_samples_leaf=10, model__max_features=sqrt, model__max_depth=15 \n",
      "[CV]  model__n_estimators=800, model__min_samples_split=15, model__min_samples_leaf=10, model__max_features=sqrt, model__max_depth=15, total=   1.4s\n",
      "[CV] model__n_estimators=800, model__min_samples_split=15, model__min_samples_leaf=10, model__max_features=sqrt, model__max_depth=15 \n",
      "[CV]  model__n_estimators=800, model__min_samples_split=15, model__min_samples_leaf=10, model__max_features=sqrt, model__max_depth=15, total=   1.5s\n",
      "[CV] model__n_estimators=800, model__min_samples_split=15, model__min_samples_leaf=10, model__max_features=sqrt, model__max_depth=15 \n",
      "[CV]  model__n_estimators=800, model__min_samples_split=15, model__min_samples_leaf=10, model__max_features=sqrt, model__max_depth=15, total=   1.3s\n"
     ]
    },
    {
     "name": "stderr",
     "output_type": "stream",
     "text": [
      "[Parallel(n_jobs=1)]: Done  50 out of  50 | elapsed:   51.9s finished\n"
     ]
    },
    {
     "data": {
      "text/plain": [
       "RandomizedSearchCV(cv=5, error_score=nan,\n",
       "                   estimator=Pipeline(memory=None,\n",
       "                                      steps=[('model',\n",
       "                                              RandomForestClassifier(bootstrap=True,\n",
       "                                                                     ccp_alpha=0.0,\n",
       "                                                                     class_weight=None,\n",
       "                                                                     criterion='gini',\n",
       "                                                                     max_depth=None,\n",
       "                                                                     max_features='auto',\n",
       "                                                                     max_leaf_nodes=None,\n",
       "                                                                     max_samples=None,\n",
       "                                                                     min_impurity_decrease=0.0,\n",
       "                                                                     min_impurity_split=None,\n",
       "                                                                     min_samples_leaf=1,\n",
       "                                                                     min_samples_split=2,\n",
       "                                                                     min_weight_frac...\n",
       "                   iid='deprecated', n_iter=10, n_jobs=None,\n",
       "                   param_distributions={'model__max_depth': [5, 8, 15, 25, 30,\n",
       "                                                             None],\n",
       "                                        'model__max_features': ['auto', 'sqrt'],\n",
       "                                        'model__min_samples_leaf': [1, 2, 5,\n",
       "                                                                    10],\n",
       "                                        'model__min_samples_split': [2, 5, 10,\n",
       "                                                                     15],\n",
       "                                        'model__n_estimators': [100, 120, 300,\n",
       "                                                                500, 800,\n",
       "                                                                1000]},\n",
       "                   pre_dispatch='2*n_jobs', random_state=None, refit=True,\n",
       "                   return_train_score=False, scoring=None, verbose=2)"
      ]
     },
     "execution_count": 7,
     "metadata": {},
     "output_type": "execute_result"
    }
   ],
   "source": [
    "pipe_grid = {\"model__n_estimators\":[100,120,300,500,800,1000],\n",
    "             \"model__max_depth\":[5,8,15,25,30,None],\n",
    "             \"model__max_features\":[\"auto\",\"sqrt\"],\n",
    "             \"model__min_samples_split\":[2,5,10,15],\n",
    "             \"model__min_samples_leaf\":[1,2,5,10],\n",
    "            }\n",
    "gs_model = RandomizedSearchCV(model, pipe_grid, cv=5, verbose=2)\n",
    "gs_model.fit(X_train,y_train)"
   ]
  },
  {
   "cell_type": "code",
   "execution_count": 8,
   "metadata": {},
   "outputs": [
    {
     "data": {
      "text/plain": [
       "0.8688524590163934"
      ]
     },
     "execution_count": 8,
     "metadata": {},
     "output_type": "execute_result"
    }
   ],
   "source": [
    "gs_model.score(X_test, y_test)"
   ]
  },
  {
   "cell_type": "markdown",
   "metadata": {},
   "source": [
    "## Saving and loading  Model"
   ]
  },
  {
   "cell_type": "code",
   "execution_count": 9,
   "metadata": {},
   "outputs": [
    {
     "data": {
      "text/plain": [
       "['heartdisease_rgs_classification.joblib']"
      ]
     },
     "execution_count": 9,
     "metadata": {},
     "output_type": "execute_result"
    }
   ],
   "source": [
    "from joblib import dump, load\n",
    "\n",
    "# save model to file\n",
    "dump(gs_model, filename=\"heartdisease_rgs_classification.joblib\")"
   ]
  },
  {
   "cell_type": "code",
   "execution_count": 10,
   "metadata": {},
   "outputs": [],
   "source": [
    "# import joblib model\n",
    "loaded_job_model = load(filename=\"heartdisease_rgs_classification.joblib\")"
   ]
  },
  {
   "cell_type": "code",
   "execution_count": 11,
   "metadata": {},
   "outputs": [
    {
     "name": "stdout",
     "output_type": "stream",
     "text": [
      "Accuracy: 86.885246%\n",
      "Precision: 0.85\n",
      "Recall: 0.91\n",
      "F1 Score: 0.88\n"
     ]
    },
    {
     "data": {
      "text/plain": [
       "{'accuracy': 0.87, 'precision': 0.85, 'recall': 0.91, 'f1': 0.88}"
      ]
     },
     "execution_count": 11,
     "metadata": {},
     "output_type": "execute_result"
    }
   ],
   "source": [
    "# evaluate and make predictions\n",
    "joblib_y_preds = loaded_job_model.predict(X_test)\n",
    "evaluate_preds(y_test, joblib_y_preds)"
   ]
  },
  {
   "cell_type": "markdown",
   "metadata": {},
   "source": [
    "### Sources and References:\n",
    "\n",
    "https://towardsdatascience.com/hyper-parameter-tuning-and-model-selection-like-a-movie-star-a884b8ee8d68\n",
    "\n",
    "https://www.udemy.com/course/complete-machine-learning-and-data-science-zero-to-mastery/\n",
    "\n",
    "https://www.kaggle.com/ronitf/heart-disease-uci"
   ]
  }
 ],
 "metadata": {
  "kernelspec": {
   "display_name": "Python 3",
   "language": "python",
   "name": "python3"
  },
  "language_info": {
   "codemirror_mode": {
    "name": "ipython",
    "version": 3
   },
   "file_extension": ".py",
   "mimetype": "text/x-python",
   "name": "python",
   "nbconvert_exporter": "python",
   "pygments_lexer": "ipython3",
   "version": "3.7.6"
  }
 },
 "nbformat": 4,
 "nbformat_minor": 4
}
